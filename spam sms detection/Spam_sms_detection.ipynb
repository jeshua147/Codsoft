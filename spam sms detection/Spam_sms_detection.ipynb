{
  "nbformat": 4,
  "nbformat_minor": 0,
  "metadata": {
    "colab": {
      "provenance": []
    },
    "kernelspec": {
      "name": "python3",
      "display_name": "Python 3"
    },
    "language_info": {
      "name": "python"
    }
  },
  "cells": [
    {
      "cell_type": "code",
      "execution_count": null,
      "metadata": {
        "id": "r1ZOp3JzMG20"
      },
      "outputs": [],
      "source": [
        "import pandas as pd\n",
        "from sklearn.model_selection import train_test_split\n",
        "from sklearn.feature_extraction.text import TfidfVectorizer\n",
        "from sklearn.naive_bayes import MultinomialNB\n",
        "from sklearn.linear_model import LogisticRegression\n",
        "from sklearn.svm import LinearSVC\n",
        "from sklearn.metrics import classification_report, accuracy_score"
      ]
    },
    {
      "cell_type": "code",
      "source": [
        "df = pd.read_csv(\"spam.csv\", encoding='latin-1')\n",
        "\n",
        "df = df[['v1', 'v2']]\n",
        "df.columns = ['label', 'message']\n",
        "df['label'] = df['label'].map({'ham': 0, 'spam': 1})"
      ],
      "metadata": {
        "id": "jVj6dWzmPOmA"
      },
      "execution_count": null,
      "outputs": []
    },
    {
      "cell_type": "code",
      "source": [
        "X_train, X_test, y_train, y_test = train_test_split(\n",
        "    df['message'], df['label'], test_size=0.2, random_state=42)\n",
        "\n",
        "tfidf = TfidfVectorizer(stop_words='english', max_df=0.9)\n",
        "X_train_tfidf = tfidf.fit_transform(X_train)\n",
        "X_test_tfidf = tfidf.transform(X_test)"
      ],
      "metadata": {
        "id": "unotqZiQPL0q"
      },
      "execution_count": null,
      "outputs": []
    },
    {
      "cell_type": "code",
      "source": [
        "model1 = MultinomialNB()\n",
        "\n",
        "model1.fit(X_train_tfidf, y_train)\n",
        "\n",
        "preds1 = model1.predict(X_test_tfidf)\n",
        "\n",
        "print(\"Model1:Naive Bayes Classifier\\n\")\n",
        "print(f\"Accuracy: {accuracy_score(y_test, preds1):.4f}\")\n",
        "print(\"classification report:\\n\",classification_report(y_test, preds1, target_names=[\"Ham\", \"Spam\"]))"
      ],
      "metadata": {
        "colab": {
          "base_uri": "https://localhost:8080/"
        },
        "id": "5zMbhPIdOlUI",
        "outputId": "713b2c56-d3a1-4535-905b-c07d32af8e24"
      },
      "execution_count": null,
      "outputs": [
        {
          "output_type": "stream",
          "name": "stdout",
          "text": [
            "Model1:Naive Bayes Classifier\n",
            "\n",
            "Accuracy: 0.9668\n",
            "classification report:\n",
            "               precision    recall  f1-score   support\n",
            "\n",
            "         Ham       0.96      1.00      0.98       965\n",
            "        Spam       1.00      0.75      0.86       150\n",
            "\n",
            "    accuracy                           0.97      1115\n",
            "   macro avg       0.98      0.88      0.92      1115\n",
            "weighted avg       0.97      0.97      0.96      1115\n",
            "\n"
          ]
        }
      ]
    },
    {
      "cell_type": "code",
      "source": [
        "model2 = LogisticRegression(max_iter=1000)\n",
        "model2.fit(X_train_tfidf, y_train)\n",
        "preds2 = model2.predict(X_test_tfidf)\n",
        "\n",
        "print(\"\\nModel2: Logistic Regression:\\n\")\n",
        "print(f\"Accuracy: {accuracy_score(y_test, preds2):.4f}\")\n",
        "print(\"classification report:\\n\",classification_report(y_test, preds2, target_names=[\"Ham\", \"Spam\"]))"
      ],
      "metadata": {
        "colab": {
          "base_uri": "https://localhost:8080/"
        },
        "id": "tk8pLXpGOtkx",
        "outputId": "dcb88a1a-1c8b-471f-915d-9dcdbad3160d"
      },
      "execution_count": null,
      "outputs": [
        {
          "output_type": "stream",
          "name": "stdout",
          "text": [
            "\n",
            "Model2: Logistic Regression:\n",
            "\n",
            "Accuracy: 0.9525\n",
            "classification report:\n",
            "               precision    recall  f1-score   support\n",
            "\n",
            "         Ham       0.95      1.00      0.97       965\n",
            "        Spam       0.97      0.67      0.79       150\n",
            "\n",
            "    accuracy                           0.95      1115\n",
            "   macro avg       0.96      0.83      0.88      1115\n",
            "weighted avg       0.95      0.95      0.95      1115\n",
            "\n"
          ]
        }
      ]
    },
    {
      "cell_type": "code",
      "source": [
        "model3 = LinearSVC()\n",
        "model3.fit(X_train_tfidf, y_train)\n",
        "preds3 = model3.predict(X_test_tfidf)\n",
        "\n",
        "print(\"\\nModel3: Support Vector Machine (SVM):\")\n",
        "print(f\"Accuracy: {accuracy_score(y_test, preds3):.4f}\")\n",
        "print(\"classification report:\\n\",classification_report(y_test, preds3, target_names=[\"Ham\", \"Spam\"]))"
      ],
      "metadata": {
        "colab": {
          "base_uri": "https://localhost:8080/"
        },
        "id": "bL0v-EdzO_a5",
        "outputId": "428cd1f4-15cb-42e0-a000-de755301b187"
      },
      "execution_count": null,
      "outputs": [
        {
          "output_type": "stream",
          "name": "stdout",
          "text": [
            "\n",
            "Model3: Support Vector Machine (SVM):\n",
            "Accuracy: 0.9785\n",
            "classification report:\n",
            "               precision    recall  f1-score   support\n",
            "\n",
            "         Ham       0.98      0.99      0.99       965\n",
            "        Spam       0.96      0.87      0.92       150\n",
            "\n",
            "    accuracy                           0.98      1115\n",
            "   macro avg       0.97      0.93      0.95      1115\n",
            "weighted avg       0.98      0.98      0.98      1115\n",
            "\n"
          ]
        }
      ]
    }
  ]
}